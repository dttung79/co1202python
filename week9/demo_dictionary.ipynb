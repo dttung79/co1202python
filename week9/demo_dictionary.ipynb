{
 "cells": [
  {
   "cell_type": "code",
   "execution_count": null,
   "metadata": {},
   "outputs": [],
   "source": [
    "# Define an empty dictionary\n",
    "a = {}\n",
    "# Define a dictionary with some key-value pairs\n",
    "words = {'hello': 'bonjour', 'world': 'monde', 'dog': 'chien', 'cat': 'chat'}\n",
    "w = input('Enter a word in English: ')\n",
    "print(f'French translation of {w} is {words[w]}') # KeyError if key is not in the dictionary"
   ]
  },
  {
   "cell_type": "code",
   "execution_count": null,
   "metadata": {},
   "outputs": [],
   "source": [
    "w = input('Enter a word: ')\n",
    "if w in words:\n",
    "    print(f'French translation of {w} is {words[w]}')\n",
    "else:\n",
    "    print(f'No translation found for {w}')"
   ]
  },
  {
   "cell_type": "code",
   "execution_count": null,
   "metadata": {},
   "outputs": [],
   "source": [
    "w = input('Enter a new word: ')\n",
    "\n",
    "if w not in words:\n",
    "    french_w = input('Enter the French translation: ')\n",
    "    words[w] = french_w # add a new key-value pair to the dictionary\n",
    "    print(words)\n",
    "else:\n",
    "    print(f'{w} already exists in the dictionary')"
   ]
  },
  {
   "cell_type": "code",
   "execution_count": 11,
   "metadata": {},
   "outputs": [
    {
     "name": "stdout",
     "output_type": "stream",
     "text": [
      "Word hi not found\n"
     ]
    }
   ],
   "source": [
    "# TODO: enter an existing word then change its translation\n",
    "w = input('Enter a word to change: ')\n",
    "if w in words:\n",
    "    french_w = input('Enter the new French translation: ')\n",
    "    words[w] = french_w # add a new key-value pair to the dictionary\n",
    "    print(words)\n",
    "else:\n",
    "    print(f'Word {w} not found')"
   ]
  },
  {
   "cell_type": "code",
   "execution_count": null,
   "metadata": {},
   "outputs": [],
   "source": [
    "w = input('Enter a word to delete: ')\n",
    "if w in words:\n",
    "    del words[w] # delete the key-value pair, similar to pop(w)\n",
    "    print(words)\n",
    "else:\n",
    "    print(f'Word {w} not found')"
   ]
  },
  {
   "cell_type": "code",
   "execution_count": null,
   "metadata": {},
   "outputs": [],
   "source": [
    "# Use for loop to iterate over all words in a dictionary\n",
    "for w in words:\n",
    "    print(f'{w:20}:{words[w]:20}')\n",
    "print('---------------------')\n",
    "# Alternative way:\n",
    "for english, french in words.items():\n",
    "    print(f'{english:20}:{french:20}')"
   ]
  },
  {
   "cell_type": "code",
   "execution_count": 2,
   "metadata": {},
   "outputs": [
    {
     "name": "stdout",
     "output_type": "stream",
     "text": [
      "John\n",
      "{'Java Programming': ['John', 'Miit', 2012, 120], 'Python for scientist': ['Paul', 'Orang', 2022, 90]}\n"
     ]
    }
   ],
   "source": [
    "books = {'Java Programming': ['John', 'Miit', 2012, 110],\n",
    "         'Python for scientist': ['Paul', 'Orang', 2022, 90]}\n",
    "\n",
    "# print author of Java Programming\n",
    "print(books['Java Programming'][0])\n",
    "books['Java Programming'][-1] = 120\n",
    "print(books)"
   ]
  }
 ],
 "metadata": {
  "kernelspec": {
   "display_name": "Python 3",
   "language": "python",
   "name": "python3"
  },
  "language_info": {
   "codemirror_mode": {
    "name": "ipython",
    "version": 3
   },
   "file_extension": ".py",
   "mimetype": "text/x-python",
   "name": "python",
   "nbconvert_exporter": "python",
   "pygments_lexer": "ipython3",
   "version": "3.9.12"
  },
  "orig_nbformat": 4
 },
 "nbformat": 4,
 "nbformat_minor": 2
}
