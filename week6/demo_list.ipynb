{
 "cells": [
  {
   "cell_type": "code",
   "execution_count": null,
   "metadata": {},
   "outputs": [],
   "source": [
    "# Declare a list\n",
    "a = []              # empty list\n",
    "b = [1]             # list with 1 element\n",
    "c = [1, 34, 4, 2]   # list with 4 elements\n",
    "\n",
    "# list of string\n",
    "d = ['hello', 'world']\n",
    "# list of floating numbers\n",
    "e = [1.2, 3.4, 5.6]\n",
    "# list of booleans values\n",
    "f = [True, False, True, True]\n",
    "# list of mixing data types\n",
    "g = [1, 'hello', 3.4, True]\n",
    "# list of lists\n",
    "h = [[1, 2], [3, 4], [5, 6]]"
   ]
  },
  {
   "cell_type": "code",
   "execution_count": null,
   "metadata": {},
   "outputs": [],
   "source": [
    "# List operators: +, -, in, not in\n",
    "a = [1, 2]\n",
    "b = [3, 4]\n",
    "c = a + b       # concatenate 2 lists\n",
    "print(c)\n",
    "d = a * 3       # repeat a list 3 times\n",
    "print(d)\n",
    "if 2 in a:\n",
    "    print('2 is in a')\n",
    "if 5 not in a:\n",
    "    print('5 is not in a')"
   ]
  },
  {
   "cell_type": "code",
   "execution_count": null,
   "metadata": {},
   "outputs": [],
   "source": [
    "# Access items in a list\n",
    "#    0  1  2   3   4   5\n",
    "a = [3, 8, 99, 12, 43, 50]\n",
    "#   -6 -5  -4  -3  -2  -1\n",
    "print(a[0]) # first item\n",
    "print(a[5]) # last item\n",
    "print(a[-6]) # first item\n",
    "print(a[-1]) # last item"
   ]
  },
  {
   "cell_type": "code",
   "execution_count": null,
   "metadata": {},
   "outputs": [],
   "source": [
    "a = [3, 8, 99, 12, 43, 50, 76, 34, 100]\n",
    "# print 34\n",
    "print(a[7], a[-2])\n",
    "# print 12\n",
    "print(a[3], a[-6])"
   ]
  },
  {
   "cell_type": "code",
   "execution_count": null,
   "metadata": {},
   "outputs": [],
   "source": [
    "# Built-in functions for list: len(), min(), max(), sum(), sorted()\n",
    "n = len(a)\n",
    "print(n)\n",
    "mi = min(a)\n",
    "print(mi)\n",
    "ma = max(a)\n",
    "print(ma)\n",
    "s = sum(a)\n",
    "print(s)\n",
    "b = sorted(a)\n",
    "print(b)\n",
    "c = sorted(a, reverse=True)\n",
    "print(c)\n",
    "print(a)"
   ]
  },
  {
   "cell_type": "code",
   "execution_count": 17,
   "metadata": {},
   "outputs": [
    {
     "name": "stdout",
     "output_type": "stream",
     "text": [
      "[2, 3, 8, 1, 6]\n",
      "[2, 3, 9, 8, 1, 6]\n",
      "[2, 3, 9, 8, 1]\n",
      "[]\n"
     ]
    }
   ],
   "source": [
    "# List methods: append(), insert(), remove(), pop(), clear()\n",
    "a = [2, 3, 8, 1]\n",
    "a.append(6) # append 6 to the end of the list\n",
    "print(a)\n",
    "a.insert(2, 9) # insert 9 at index 2\n",
    "print(a)\n",
    "a.pop() # remove the last item\n",
    "print(a)\n",
    "a.clear() # remove all items\n",
    "print(a)"
   ]
  },
  {
   "cell_type": "code",
   "execution_count": 18,
   "metadata": {},
   "outputs": [
    {
     "name": "stdout",
     "output_type": "stream",
     "text": [
      "[2, 8, 1, 3, 8, 12, 38, 3]\n"
     ]
    }
   ],
   "source": [
    "a = [2, 3, 8, 1, 3, 8, 12, 38, 3]\n",
    "a.remove(3) # remove the first 3 in the list\n",
    "print(a)"
   ]
  },
  {
   "cell_type": "code",
   "execution_count": null,
   "metadata": {},
   "outputs": [],
   "source": [
    "# Slice a list\n",
    "# Simple slice [start:end]\n",
    "a = [3, 8, 99, 12, 43, 50, 76, 34, 100]\n",
    "print(a[3:6]) # print from index 3 to index 5\n",
    "print(a[0:4]) # print 4 first items\n",
    "print(a[:4])  # print 4 first items\n",
    "print(a[6:])  # print 3 last items\n",
    "print(a[-3:]) # print 3 last items\n",
    "print(a[2:-2]) # skip 2 first items and 2 last items"
   ]
  },
  {
   "cell_type": "code",
   "execution_count": 25,
   "metadata": {},
   "outputs": [
    {
     "name": "stdout",
     "output_type": "stream",
     "text": [
      "[99, 43, 76]\n",
      "[8, 43, 34]\n",
      "[3, 99, 43, 76, 100]\n"
     ]
    }
   ],
   "source": [
    "# Full syntax [start:end:step]\n",
    "print(a[2:7:2]) # start from index 2 up to index 6 with step 2\n",
    "print(a[1:-1:3]) # start from index 1 up to index -2 with step 3\n",
    "print(a[::2]) # start from beginning to end with step 2"
   ]
  },
  {
   "cell_type": "code",
   "execution_count": 28,
   "metadata": {},
   "outputs": [
    {
     "name": "stdout",
     "output_type": "stream",
     "text": [
      "[3, 8, 99, 12, 43, 50, 76, 34, 100]\n",
      "[100, 34, 76, 50, 43, 12, 99, 8, 3]\n",
      "[12, 99, 8, 3]\n",
      "[34, 50, 12, 8]\n"
     ]
    }
   ],
   "source": [
    "# Reverse slicing using negative step\n",
    "print(a)\n",
    "print(a[::-1])      # reverse a list\n",
    "print(a[3::-1])     # reverse a list from index 3 to the beginning\n",
    "print(a[-2:0:-2])   # reverse a list from index -2 to index 1 with step 2"
   ]
  },
  {
   "cell_type": "code",
   "execution_count": 30,
   "metadata": {},
   "outputs": [
    {
     "name": "stdout",
     "output_type": "stream",
     "text": [
      "[3, 8, 99, 12, 43, 50, 76, 34, 100]\n",
      "[3, 8, 99, 12, 43, 50, 76, 34, 100]\n",
      "[3, 8, 99, 12, 43, 50, 76, 34, 100]\n",
      "['Hello', 8, 99, 12, 43, 50, 76, 34, 100]\n",
      "['Hello', 8, 99, 12, 43, 50, 76, 34, 100]\n",
      "[3, 8, 99, 12, 43, 50, 76, 34, 100]\n"
     ]
    }
   ],
   "source": [
    "b = a           # b is reference to a\n",
    "c = a[::]       # c is a copy of a\n",
    "print(a)\n",
    "print(b)\n",
    "print(c)\n",
    "a[0] = 'Hello'\n",
    "print(a)\n",
    "print(b)\n",
    "print(c)"
   ]
  }
 ],
 "metadata": {
  "kernelspec": {
   "display_name": "Python 3",
   "language": "python",
   "name": "python3"
  },
  "language_info": {
   "codemirror_mode": {
    "name": "ipython",
    "version": 3
   },
   "file_extension": ".py",
   "mimetype": "text/x-python",
   "name": "python",
   "nbconvert_exporter": "python",
   "pygments_lexer": "ipython3",
   "version": "3.9.12"
  },
  "orig_nbformat": 4
 },
 "nbformat": 4,
 "nbformat_minor": 2
}
