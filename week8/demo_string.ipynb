{
 "cells": [
  {
   "cell_type": "code",
   "execution_count": null,
   "metadata": {},
   "outputs": [],
   "source": [
    "# String format\n",
    "# Format numbers\n",
    "x = 0.987\n",
    "print(f'x = {x:.1f}')\n",
    "print(f'x = {x:.2f}')\n",
    "print(f'x = {x:.3f}')\n",
    "print(f'x = {x:.5f}')"
   ]
  },
  {
   "cell_type": "code",
   "execution_count": null,
   "metadata": {},
   "outputs": [],
   "source": [
    "print(f'x = {x:10.2f}') # reserved 10 spaces\n",
    "print(f'x = {x:.2f}')   # let python decide how many spaces"
   ]
  },
  {
   "cell_type": "code",
   "execution_count": null,
   "metadata": {},
   "outputs": [],
   "source": [
    "print(f'x = {x:8.2e}')  # scientific notation"
   ]
  },
  {
   "cell_type": "code",
   "execution_count": null,
   "metadata": {},
   "outputs": [],
   "source": [
    "y = 1234\n",
    "print(f'{y:8.5e}')"
   ]
  },
  {
   "cell_type": "code",
   "execution_count": null,
   "metadata": {},
   "outputs": [],
   "source": [
    "print(f'x = {x:8.2%}') # percentage format"
   ]
  },
  {
   "cell_type": "code",
   "execution_count": 15,
   "metadata": {},
   "outputs": [
    {
     "name": "stdout",
     "output_type": "stream",
     "text": [
      "|hello world         |\n",
      "|              12.345|\n"
     ]
    }
   ],
   "source": [
    "s = 'hello world'\n",
    "x = 12.345 \n",
    "print(f'|{s:20}|') # string is aligned to the left\n",
    "print(f'|{x:20}|') # number is aligned to the right"
   ]
  },
  {
   "cell_type": "code",
   "execution_count": 17,
   "metadata": {},
   "outputs": [
    {
     "name": "stdout",
     "output_type": "stream",
     "text": [
      "|         hello world|\n",
      "|12.345              |\n",
      "|    hello world     |\n"
     ]
    }
   ],
   "source": [
    "print(f'|{s:>20}|') # '>' symbol is used to right align the string\n",
    "print(f'|{x:<20}|') # '<' symbol is used to left align the string\n",
    "print(f'|{s:^20}|') # '^' symbol is used to center align the string"
   ]
  },
  {
   "cell_type": "code",
   "execution_count": 23,
   "metadata": {},
   "outputs": [
    {
     "name": "stdout",
     "output_type": "stream",
     "text": [
      "+---------------+---------------+\n",
      "|     Fruit     |     Price     |\n",
      "+---------------+---------------+\n",
      "|apple          |         11.50$|\n",
      "+---------------+---------------+\n",
      "|banana         |         10.25$|\n",
      "+---------------+---------------+\n",
      "|orange         |          8.99$|\n",
      "+---------------+---------------+\n"
     ]
    }
   ],
   "source": [
    "fruits = ['apple', 'banana', 'orange']\n",
    "prices = [11.5, 10.25, 8.99]\n",
    "# print fruits and prices\n",
    "print(f'+{\"-\"*15}+{\"-\"*15}+')\n",
    "print(f'|{\"Fruit\":^15}|{\"Price\":^15}|')\n",
    "print(f'+{\"-\"*15}+{\"-\"*15}+')\n",
    "\n",
    "for i in range(len(fruits)):\n",
    "    print(f'|{fruits[i]:15}|{prices[i]:14.2f}$|')\n",
    "    print(f'+{\"-\"*15}+{\"-\"*15}+')"
   ]
  },
  {
   "cell_type": "code",
   "execution_count": 25,
   "metadata": {},
   "outputs": [
    {
     "name": "stdout",
     "output_type": "stream",
     "text": [
      "HELLO WORLD\n",
      "hello world\n",
      "Hello World\n",
      "HEllo WoRLD\n",
      "heLLO wOrld\n"
     ]
    }
   ],
   "source": [
    "# Some string methods: upper, lower, title & swapcase\n",
    "s = 'heLLO wOrld'\n",
    "print(s.upper())\n",
    "print(s.lower())\n",
    "print(s.title())\n",
    "print(s.swapcase())\n",
    "print(s) # string is immutable, cannot change characters in place"
   ]
  },
  {
   "cell_type": "code",
   "execution_count": 27,
   "metadata": {},
   "outputs": [
    {
     "name": "stdout",
     "output_type": "stream",
     "text": [
      "|       hello world            |\n",
      "|hello world            |\n",
      "|       hello world|\n",
      "|hello world|\n"
     ]
    }
   ],
   "source": [
    "s = '       hello world            '\n",
    "print(f'|{s}|')\n",
    "print(f'|{s.lstrip()}|') # remove left spaces\n",
    "print(f'|{s.rstrip()}|') # remove right spaces\n",
    "print(f'|{s.strip()}|') # remove left and right spaces"
   ]
  },
  {
   "cell_type": "code",
   "execution_count": 33,
   "metadata": {},
   "outputs": [
    {
     "name": "stdout",
     "output_type": "stream",
     "text": [
      "+---------------+---------------+\n",
      "*---------------*---------------*\n"
     ]
    }
   ],
   "source": [
    "s1 = f'+{\"-\"*15}+{\"-\"*15}+'\n",
    "print(s1)\n",
    "s2 = s1.replace('+', '*') # replace all '+' with '*'\n",
    "print(s2)"
   ]
  },
  {
   "cell_type": "code",
   "execution_count": 2,
   "metadata": {},
   "outputs": [
    {
     "name": "stdout",
     "output_type": "stream",
     "text": [
      "Length of s1: 10\n",
      "Length of s2: 14\n"
     ]
    }
   ],
   "source": [
    "# Some functions for string: len, min, max\n",
    "s1 = 'John Lenon'\n",
    "s2 = 'Paul McCartney'\n",
    "print(f'Length of s1: {len(s1)}')\n",
    "print(f'Length of s2: {len(s2)}')"
   ]
  },
  {
   "cell_type": "code",
   "execution_count": 4,
   "metadata": {},
   "outputs": [
    {
     "name": "stdout",
     "output_type": "stream",
     "text": [
      "ABBA\n",
      "Boney M\n"
     ]
    }
   ],
   "source": [
    "# Character order: punctuation < digits < uppercase < lowercase\n",
    "names = ['ABBA', 'Boney M', 'Bee Gees', 'Beatles']\n",
    "print(min(names))\n",
    "print(max(names))"
   ]
  },
  {
   "cell_type": "code",
   "execution_count": 5,
   "metadata": {},
   "outputs": [
    {
     "name": "stdout",
     "output_type": "stream",
     "text": [
      "ABBA\n",
      "Bee Gees\n"
     ]
    }
   ],
   "source": [
    "print(min(names, key=len))\n",
    "print(max(names, key=len))"
   ]
  },
  {
   "cell_type": "code",
   "execution_count": 8,
   "metadata": {},
   "outputs": [
    {
     "name": "stdout",
     "output_type": "stream",
     "text": [
      "hello python\n",
      "pythonpythonpythonpythonpython\n"
     ]
    }
   ],
   "source": [
    "# String operators: + and *\n",
    "s1 = 'hello'\n",
    "s2 = 'python'\n",
    "s3 = s1 + ' ' + s2\n",
    "print(s3)\n",
    "s4 = s2 * 5\n",
    "print(s4)"
   ]
  },
  {
   "cell_type": "code",
   "execution_count": 10,
   "metadata": {},
   "outputs": [
    {
     "name": "stdout",
     "output_type": "stream",
     "text": [
      "hell\n",
      "world\n"
     ]
    }
   ],
   "source": [
    "s = 'hello world'\n",
    "print(s[:4])\n",
    "print(s[-5:])"
   ]
  },
  {
   "cell_type": "code",
   "execution_count": 12,
   "metadata": {},
   "outputs": [
    {
     "name": "stdout",
     "output_type": "stream",
     "text": [
      "hell is in hello world\n",
      "lo is in hello world\n"
     ]
    }
   ],
   "source": [
    "if 'hell' in s:\n",
    "    print(f'hell is in {s}')\n",
    "\n",
    "if 'lo' in s:\n",
    "    print(f'lo is in {s}')"
   ]
  },
  {
   "cell_type": "code",
   "execution_count": 18,
   "metadata": {},
   "outputs": [
    {
     "name": "stdout",
     "output_type": "stream",
     "text": [
      "DO MIXIE\n",
      "The letters in the string are all upper case.\n"
     ]
    }
   ],
   "source": [
    "s = input('Enter a string: ')\n",
    "print(s)\n",
    "if s.isalpha():\n",
    "    print('The string contains only letters.')\n",
    "if s.isdigit():\n",
    "    print('The string contains only digits.')\n",
    "if s.isalnum():\n",
    "    print('The string contains only letters or digits.')\n",
    "if s.islower():\n",
    "    print('The letters in the string are all lower case.')\n",
    "if s.isupper():\n",
    "    print('The letters in the string are all upper case.')"
   ]
  },
  {
   "cell_type": "code",
   "execution_count": 21,
   "metadata": {},
   "outputs": [
    {
     "name": "stdout",
     "output_type": "stream",
     "text": [
      "Found at position 36\n",
      "dog is at the end of the string\n"
     ]
    }
   ],
   "source": [
    "# Search methods\n",
    "msg = 'quick brown fox jumps over the lazy dog'\n",
    "s = input('Enter a string to search: ')\n",
    "pos = msg.find(s)\n",
    "if pos != -1:\n",
    "    print('Found at position', pos)\n",
    "else:\n",
    "    print('Not found')\n",
    "\n",
    "if msg.startswith(s):\n",
    "    print(f'{s} is at the beginning of the string')\n",
    "elif msg.endswith(s):\n",
    "    print(f'{s} is at the end of the string')\n",
    "else:\n",
    "    print(f'{s} is not at the beginning or end of the string')"
   ]
  },
  {
   "cell_type": "code",
   "execution_count": 22,
   "metadata": {},
   "outputs": [
    {
     "name": "stdout",
     "output_type": "stream",
     "text": [
      "hello_____world\n"
     ]
    }
   ],
   "source": [
    "# Chaining methods\n",
    "s = '        hEllo     worlD     '\n",
    "s = s.strip().lower().replace(' ', '_')\n",
    "print(s)"
   ]
  }
 ],
 "metadata": {
  "kernelspec": {
   "display_name": "Python 3",
   "language": "python",
   "name": "python3"
  },
  "language_info": {
   "codemirror_mode": {
    "name": "ipython",
    "version": 3
   },
   "file_extension": ".py",
   "mimetype": "text/x-python",
   "name": "python",
   "nbconvert_exporter": "python",
   "pygments_lexer": "ipython3",
   "version": "3.9.12"
  },
  "orig_nbformat": 4
 },
 "nbformat": 4,
 "nbformat_minor": 2
}
