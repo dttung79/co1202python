{
 "cells": [
  {
   "cell_type": "code",
   "execution_count": 6,
   "metadata": {},
   "outputs": [],
   "source": [
    "# Define a function without any parameter\n",
    "def hello_world():\n",
    "    print(\"Hello Java World\")"
   ]
  },
  {
   "cell_type": "code",
   "execution_count": null,
   "metadata": {},
   "outputs": [],
   "source": [
    "# Call the function\n",
    "hello_world()\n",
    "hello_world()\n",
    "hello_world()"
   ]
  },
  {
   "cell_type": "code",
   "execution_count": 9,
   "metadata": {},
   "outputs": [],
   "source": [
    "# Define a function with one parameter\n",
    "def say_hello(name):\n",
    "    print(\"Hello\", name)"
   ]
  },
  {
   "cell_type": "code",
   "execution_count": 10,
   "metadata": {},
   "outputs": [
    {
     "name": "stdout",
     "output_type": "stream",
     "text": [
      "Hello John\n",
      "Hello Mary\n"
     ]
    }
   ],
   "source": [
    "# Call function, pass 1 argument\n",
    "say_hello(\"John\")\n",
    "name = \"Mary\"\n",
    "say_hello(name)"
   ]
  },
  {
   "cell_type": "code",
   "execution_count": null,
   "metadata": {},
   "outputs": [],
   "source": [
    "say_hello() # Error, missing argument"
   ]
  },
  {
   "cell_type": "code",
   "execution_count": 12,
   "metadata": {},
   "outputs": [],
   "source": [
    "# Define a function with two parameters\n",
    "def show_info(name, age):\n",
    "    print(f'Hello {name}, you are {age} years old')"
   ]
  },
  {
   "cell_type": "code",
   "execution_count": 13,
   "metadata": {},
   "outputs": [
    {
     "name": "stdout",
     "output_type": "stream",
     "text": [
      "Hello John, you are 20 years old\n",
      "Hello Mary, you are 21 years old\n"
     ]
    }
   ],
   "source": [
    "show_info(\"John\", 20)\n",
    "name = \"Mary\"\n",
    "age = 21\n",
    "show_info(name, age)"
   ]
  },
  {
   "cell_type": "code",
   "execution_count": null,
   "metadata": {},
   "outputs": [],
   "source": [
    "show_info() # Error, missing 2 arguments\n",
    "show_info(\"John\") # Error, missing 1 argument age\n",
    "show_info(age) # Error, missing 1 argument name"
   ]
  },
  {
   "cell_type": "code",
   "execution_count": 14,
   "metadata": {},
   "outputs": [
    {
     "name": "stdout",
     "output_type": "stream",
     "text": [
      "Hello 10, you are John years old\n"
     ]
    }
   ],
   "source": [
    "show_info(10, 'John') # Not error but wrong result"
   ]
  },
  {
   "cell_type": "code",
   "execution_count": null,
   "metadata": {},
   "outputs": [],
   "source": [
    "# Write a function name print_slogan\n",
    "# Which has 2 parameters:\n",
    "# - slogan\n",
    "# - symbol\n",
    "# Example call print_slogan('Python', '+') will print:\n",
    "# ++++++++++\n",
    "# + Python +\n",
    "# ++++++++++"
   ]
  },
  {
   "cell_type": "code",
   "execution_count": 29,
   "metadata": {},
   "outputs": [],
   "source": [
    "def print_slogan(slogan, symbol):\n",
    "    n = len(slogan) + 4\n",
    "    for i in range(n):\n",
    "        print(symbol, end='')\n",
    "    print()\n",
    "    print(symbol, slogan, symbol)\n",
    "    print(symbol * n)"
   ]
  },
  {
   "cell_type": "code",
   "execution_count": 30,
   "metadata": {},
   "outputs": [
    {
     "name": "stdout",
     "output_type": "stream",
     "text": [
      "++++++++++++++++\n",
      "+ Hello Python +\n",
      "++++++++++++++++\n"
     ]
    }
   ],
   "source": [
    "print_slogan('Hello Python', '+')"
   ]
  },
  {
   "cell_type": "code",
   "execution_count": 32,
   "metadata": {},
   "outputs": [
    {
     "name": "stdout",
     "output_type": "stream",
     "text": [
      "10 20\n"
     ]
    }
   ],
   "source": [
    "# Function that returns a value\n",
    "def double(a):\n",
    "    return a * 2\n",
    "    print('Hellloooooo')\n",
    "\n",
    "a = 10\n",
    "b = double(a)\n",
    "print(a, b)"
   ]
  },
  {
   "cell_type": "code",
   "execution_count": 37,
   "metadata": {},
   "outputs": [],
   "source": [
    "# Function with 2 parameters, return a value\n",
    "def find_max(a, b):\n",
    "    m = a if a > b else b\n",
    "    return m"
   ]
  },
  {
   "cell_type": "code",
   "execution_count": 39,
   "metadata": {},
   "outputs": [
    {
     "name": "stdout",
     "output_type": "stream",
     "text": [
      "10555\n"
     ]
    }
   ],
   "source": [
    "m = find_max(10555, 20)\n",
    "print(m)"
   ]
  },
  {
   "cell_type": "code",
   "execution_count": 40,
   "metadata": {},
   "outputs": [],
   "source": [
    "# Write a function that takes 3 parameters as english, math, physics grades\n",
    "# and return the rank of the student (failed, pass, merit & distinction)\n",
    "def cal_rank(english, math, physics):\n",
    "    avg = (english + math + physics) / 3\n",
    "    if avg < 4.0:\n",
    "        return 'Failed'\n",
    "    elif avg <= 6.5:\n",
    "        return 'Pass'\n",
    "    elif avg <= 8.0:\n",
    "        return 'Merit'\n",
    "    \n",
    "    return 'Distinction'"
   ]
  },
  {
   "cell_type": "code",
   "execution_count": 41,
   "metadata": {},
   "outputs": [
    {
     "name": "stdout",
     "output_type": "stream",
     "text": [
      "Student rank: Pass\n"
     ]
    }
   ],
   "source": [
    "english = float(input('Enter English grade: '))\n",
    "math = float(input('Enter Math grade: '))\n",
    "physics = float(input('Enter Physics grade: '))\n",
    "\n",
    "rank = cal_rank(english, math, physics)\n",
    "print(f'Student rank: {rank}')"
   ]
  },
  {
   "cell_type": "code",
   "execution_count": 42,
   "metadata": {},
   "outputs": [],
   "source": [
    "# Write a function to calculate interest of a bank account\n",
    "# The function has 2 parameters:\n",
    "# - balance\n",
    "# - months\n",
    "# If months < 6, the interest rate is 0.5%\n",
    "# Else the interest rate is 0.8%\n",
    "# Return the new balance (balance + interest)\n",
    "def cal_interest(balance, months):\n",
    "    rate = 0.5 / 100 if months < 6 else 0.8 / 100\n",
    "    interest = balance * rate * months\n",
    "    new_balance = balance + interest\n",
    "    \n",
    "    return new_balance"
   ]
  },
  {
   "cell_type": "code",
   "execution_count": 43,
   "metadata": {},
   "outputs": [
    {
     "name": "stdout",
     "output_type": "stream",
     "text": [
      "Your new balance is $1064.0\n"
     ]
    }
   ],
   "source": [
    "balance = 1000\n",
    "months = 8\n",
    "new_balance = cal_interest(balance, months)\n",
    "print(f'Your new balance is ${new_balance}')"
   ]
  }
 ],
 "metadata": {
  "kernelspec": {
   "display_name": "Python 3",
   "language": "python",
   "name": "python3"
  },
  "language_info": {
   "codemirror_mode": {
    "name": "ipython",
    "version": 3
   },
   "file_extension": ".py",
   "mimetype": "text/x-python",
   "name": "python",
   "nbconvert_exporter": "python",
   "pygments_lexer": "ipython3",
   "version": "3.9.12"
  },
  "orig_nbformat": 4
 },
 "nbformat": 4,
 "nbformat_minor": 2
}
