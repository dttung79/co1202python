{
 "cells": [
  {
   "cell_type": "code",
   "execution_count": null,
   "metadata": {},
   "outputs": [],
   "source": [
    "# Popular list algorithms: sum, min, max, count, find, find all"
   ]
  },
  {
   "cell_type": "code",
   "execution_count": 6,
   "metadata": {},
   "outputs": [
    {
     "name": "stdout",
     "output_type": "stream",
     "text": [
      "[99, 67, 81, 83, 46, 47, 41, 32, 57, 33]\n"
     ]
    }
   ],
   "source": [
    "import random as rd\n",
    "numbers = rd.sample(range(1, 100), 10) # 10 random numbers from 1 to 99\n",
    "print(numbers)"
   ]
  },
  {
   "cell_type": "code",
   "execution_count": 9,
   "metadata": {},
   "outputs": [
    {
     "name": "stdout",
     "output_type": "stream",
     "text": [
      "Sum: 586\n",
      "Sum: 586\n"
     ]
    }
   ],
   "source": [
    "s = 0\n",
    "for n in numbers: # Loop for each item\n",
    "    s = s + n\n",
    "print(f'Sum: {s}')\n",
    "\n",
    "s = 0\n",
    "for i in range(len(numbers)): # Loop for each index\n",
    "    s = s + numbers[i]\n",
    "\n",
    "print(f'Sum: {s}')"
   ]
  },
  {
   "cell_type": "code",
   "execution_count": 10,
   "metadata": {},
   "outputs": [
    {
     "name": "stdout",
     "output_type": "stream",
     "text": [
      "Product: 3628800\n"
     ]
    }
   ],
   "source": [
    "numbers = list(range(1, 11))\n",
    "# calculate product of all numbers\n",
    "p = 1\n",
    "for n in numbers:\n",
    "    p = p * n\n",
    "print(f'Product: {p}')"
   ]
  },
  {
   "cell_type": "code",
   "execution_count": 14,
   "metadata": {},
   "outputs": [
    {
     "name": "stdout",
     "output_type": "stream",
     "text": [
      "[52, 32, 92, 20, 64, 78, 9, 77, 97, 90]\n",
      "Min: 9\n",
      "Min: 9\n"
     ]
    }
   ],
   "source": [
    "# Find min\n",
    "numbers = rd.sample(range(1, 100), 10) # 10 random numbers from 1 to 99\n",
    "print(numbers)\n",
    "m = numbers[0] # assign first item to m\n",
    "for i in range(len(numbers)):\n",
    "    if numbers[i] < m:\n",
    "        m = numbers[i]\n",
    "print(f'Min: {m}')\n",
    "\n",
    "m = numbers[0]\n",
    "for n in numbers:\n",
    "    if n < m:\n",
    "        m = n\n",
    "print(f'Min: {m}')"
   ]
  },
  {
   "cell_type": "code",
   "execution_count": 15,
   "metadata": {},
   "outputs": [
    {
     "name": "stdout",
     "output_type": "stream",
     "text": [
      "Max: 97\n"
     ]
    }
   ],
   "source": [
    "# TODO: find max\n",
    "m = numbers[0]\n",
    "for n in numbers:\n",
    "    if n > m:\n",
    "        m = n\n",
    "print(f'Max: {m}')"
   ]
  },
  {
   "cell_type": "code",
   "execution_count": 19,
   "metadata": {},
   "outputs": [
    {
     "name": "stdout",
     "output_type": "stream",
     "text": [
      "Total payment: $45.31\n",
      "Item butter has the highest price: $3.49\n",
      "Item eggs has the highest number: 10\n",
      "Item milk has the lowest total price: $5.98\n"
     ]
    }
   ],
   "source": [
    "groceries = ['milk', 'eggs', 'bread', 'butter']\n",
    "numbers = [2, 10, 5, 2]\n",
    "prices = [2.99, 1.99, 2.49, 3.49]\n",
    "\n",
    "# Calculate sum of total price (sum of number x price)\n",
    "s = 0\n",
    "for i in range(len(prices)):\n",
    "    s = s + prices[i] * numbers[i]\n",
    "print(f'Total payment: ${s}')\n",
    "# Find the grocery that has the highest price\n",
    "max_price = prices[0]\n",
    "max_index = 0\n",
    "for i in range(len(prices)):\n",
    "    if prices[i] > max_price:\n",
    "        max_price = prices[i]\n",
    "        max_index = i\n",
    "print(f'Item {groceries[max_index]} has the highest price: ${max_price}')\n",
    "\n",
    "# Find the grocery that has max number\n",
    "max_number = numbers[0]\n",
    "max_index = 0\n",
    "for i in range(len(numbers)):\n",
    "    if numbers[i] > max_number:\n",
    "        max_number = numbers[i]\n",
    "        max_index = i\n",
    "print(f'Item {groceries[max_index]} has the highest number: {max_number}')\n",
    "# Find the grocery that has the lowest total price\n",
    "min_payment = prices[0] * numbers[0]\n",
    "min_index = 0\n",
    "for i in range(len(prices)):\n",
    "    payment = prices[i] * numbers[i]\n",
    "    if payment < min_payment:\n",
    "        min_payment = payment\n",
    "        min_index = i\n",
    "\n",
    "print(f'Item {groceries[min_index]} has the lowest total price: ${min_payment}')"
   ]
  },
  {
   "cell_type": "code",
   "execution_count": 22,
   "metadata": {},
   "outputs": [
    {
     "name": "stdout",
     "output_type": "stream",
     "text": [
      "[9, 22, 90, 31, 21, 34, 67, 88, 89, 33]\n",
      "There are 4 evens\n"
     ]
    }
   ],
   "source": [
    "numbers = rd.sample(range(1, 100), 10) # 10 random numbers from 1 to 99\n",
    "print(numbers)\n",
    "\n",
    "count = 0\n",
    "for n in numbers:\n",
    "    if n % 2 == 0:\n",
    "        count = count + 1\n",
    "\n",
    "print(f'There are {count} evens')"
   ]
  },
  {
   "cell_type": "code",
   "execution_count": 23,
   "metadata": {},
   "outputs": [
    {
     "name": "stdout",
     "output_type": "stream",
     "text": [
      "There are 4 numbers above the average (48.4)\n"
     ]
    }
   ],
   "source": [
    "# Calculate average of numbers, count how many number that is above the average\n",
    "s = 0\n",
    "for n in numbers:\n",
    "    s += n\n",
    "avg = s / len(numbers)\n",
    "\n",
    "count = 0\n",
    "for n in numbers:\n",
    "    if n > avg:\n",
    "        count += 1\n",
    "\n",
    "print(f'There are {count} numbers above the average ({avg})')"
   ]
  },
  {
   "cell_type": "code",
   "execution_count": 24,
   "metadata": {},
   "outputs": [
    {
     "name": "stdout",
     "output_type": "stream",
     "text": [
      "There are 4 products that has total payment above $5.00\n"
     ]
    }
   ],
   "source": [
    "# Count how many products that has total payment above $5.00\n",
    "count = 0\n",
    "for i in range(len(prices)):\n",
    "    payment = prices[i] * numbers[i]\n",
    "    if payment > 5.00:\n",
    "        count += 1\n",
    "print(f'There are {count} products that has total payment above $5.00')"
   ]
  },
  {
   "cell_type": "code",
   "execution_count": 26,
   "metadata": {},
   "outputs": [
    {
     "name": "stdout",
     "output_type": "stream",
     "text": [
      "Product meat not found\n"
     ]
    }
   ],
   "source": [
    "name = input('Enter product to search: ')\n",
    "found = False\n",
    "for i in range(len(groceries)):\n",
    "    if groceries[i] == name:\n",
    "        print(f'Price of {name}: ${prices[i]}')\n",
    "        found = True\n",
    "        break\n",
    "\n",
    "if not found:\n",
    "    print(f'Product {name} not found')"
   ]
  },
  {
   "cell_type": "code",
   "execution_count": 29,
   "metadata": {},
   "outputs": [
    {
     "name": "stdout",
     "output_type": "stream",
     "text": [
      "Cheap products: ['eggs', 'bread']\n",
      "Cheap prices: [1.99, 2.49]\n"
     ]
    }
   ],
   "source": [
    "cheap_products = []\n",
    "cheap_prices = []\n",
    "for i in range(len(prices)):\n",
    "    if prices[i] < 2.50:\n",
    "        cheap_products.append(groceries[i])\n",
    "        cheap_prices.append(prices[i])\n",
    "\n",
    "if len(cheap_products) == 0:\n",
    "    print('No product is cheap')\n",
    "else:\n",
    "    print('Cheap products:', cheap_products)\n",
    "    print('Cheap prices:', cheap_prices)"
   ]
  },
  {
   "cell_type": "code",
   "execution_count": null,
   "metadata": {},
   "outputs": [],
   "source": [
    "students = ['John', 'Mary', 'Peter', 'Jane', 'Bob', 'Alice', 'Tom', 'Jerry']\n",
    "departments = ['IT', 'GD', 'GD', 'Biz', 'Biz', 'IT', 'GD', 'IT']\n",
    "GPAs = [3.5, 3.2, 3.8, 3.0, 3.1, 3.9, 3.6, 3.7]\n",
    "# 1. Enter student name, print GPA & department of found student\n",
    "# 2. Enter department, print all students in that department\n",
    "# 3. Find the student with highest GPA\n",
    "# 4. Calculate average GPA of all students, count how many students that has GPA above average\n",
    "# 5. Calculate average GPA of each department"
   ]
  }
 ],
 "metadata": {
  "kernelspec": {
   "display_name": "Python 3",
   "language": "python",
   "name": "python3"
  },
  "language_info": {
   "codemirror_mode": {
    "name": "ipython",
    "version": 3
   },
   "file_extension": ".py",
   "mimetype": "text/x-python",
   "name": "python",
   "nbconvert_exporter": "python",
   "pygments_lexer": "ipython3",
   "version": "3.9.12"
  },
  "orig_nbformat": 4
 },
 "nbformat": 4,
 "nbformat_minor": 2
}
