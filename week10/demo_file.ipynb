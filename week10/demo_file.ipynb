{
 "cells": [
  {
   "cell_type": "code",
   "execution_count": null,
   "metadata": {},
   "outputs": [],
   "source": [
    "try:\n",
    "    f = open('files/languages.txt', 'r') # open with read mode\n",
    "    contents = f.read() # read all the content of the file into a string\n",
    "    #print(contents)\n",
    "\n",
    "    languages = contents.split('\\n') # split the string into a list of strings\n",
    "    #print(languages)\n",
    "    for lan in languages:\n",
    "        if lan.startswith('P'):\n",
    "            print(lan)\n",
    "    f.close() # close the file\n",
    "except FileNotFoundError:\n",
    "    print('File not found')"
   ]
  },
  {
   "cell_type": "code",
   "execution_count": null,
   "metadata": {},
   "outputs": [],
   "source": [
    "try:\n",
    "    f = open('files/languages.txt', 'r')\n",
    "    lines = f.readlines() # read content into a list of strings\n",
    "    #print(lines)\n",
    "    for line in lines:\n",
    "        line = line.strip() # remove \\n\n",
    "        if (len(line) >= 5): # find languages with long name (at least 5 characters)\n",
    "            print(line)\n",
    "    f.close()\n",
    "except FileNotFoundError:\n",
    "    print('File not found')"
   ]
  },
  {
   "cell_type": "code",
   "execution_count": null,
   "metadata": {},
   "outputs": [],
   "source": [
    "# For large file, should not read all at once\n",
    "try:\n",
    "    f = open('files/languages.txt', 'r')\n",
    "    line = f.readline().strip() # read the first line, remove the \\n\n",
    "    while line != '':\n",
    "        if 'c' in line.lower(): # find the languages that contains 'c'\n",
    "            print(line)\n",
    "        line = f.readline().strip() # read next line\n",
    "except FileNotFoundError:\n",
    "    print('File not found')"
   ]
  },
  {
   "cell_type": "code",
   "execution_count": 12,
   "metadata": {},
   "outputs": [
    {
     "name": "stdout",
     "output_type": "stream",
     "text": [
      "The Triboro Bridge and Tunnel Authority\n",
      "The Metropolitan Transit Authority\n",
      "The Port Authority of New York and New Jersey\n"
     ]
    }
   ],
   "source": [
    "# Exercise: Read agencies.txt file, find all the agencies that has 'Authority' in their name, and print them out.\n",
    "\n",
    "# Improve the code by asking for the file name, if file not found, ask again.\n",
    "invalid_file = True\n",
    "while invalid_file:\n",
    "    try:\n",
    "        f = open(input(\"Enter file name: \"))\n",
    "        lines = f.readlines()\n",
    "        for line in lines:\n",
    "            if 'Authority' in line:\n",
    "                print(line.strip())\n",
    "\n",
    "        f.close()\n",
    "        invalid_file = False\n",
    "    except FileNotFoundError:\n",
    "        print(\"File not found, try again.\")"
   ]
  },
  {
   "cell_type": "code",
   "execution_count": 15,
   "metadata": {},
   "outputs": [],
   "source": [
    "f = open('files/books.csv', 'w')\n",
    "f.write('Name,Author,Price\\n')\n",
    "while True:\n",
    "    book = input('Enter book name: ')\n",
    "    author = input('Enter author: ')\n",
    "    price = int(input('Enter price: '))\n",
    "    f.write(f'{book},{author},{price}\\n')\n",
    "    if input('continue? (y/n): ') == 'n':\n",
    "        break\n",
    "f.close()"
   ]
  },
  {
   "cell_type": "code",
   "execution_count": 17,
   "metadata": {},
   "outputs": [
    {
     "name": "stdout",
     "output_type": "stream",
     "text": [
      "Book: Harry Potter, author: JK Rowling, price: $1000\n",
      "Book: Java Programming, author: Mr. Tung, price: $200\n"
     ]
    }
   ],
   "source": [
    "import csv\n",
    "\n",
    "f = open('files/books.csv', 'r')\n",
    "reader = csv.reader(f)\n",
    "\n",
    "next(reader) # skip the header row\n",
    "\n",
    "for row in reader:\n",
    "    print(f'Book: {row[0]}, author: {row[1]}, price: ${row[2]}')\n",
    "\n",
    "f.close()"
   ]
  },
  {
   "cell_type": "code",
   "execution_count": 20,
   "metadata": {},
   "outputs": [
    {
     "name": "stdout",
     "output_type": "stream",
     "text": [
      "All gmail author saved!\n"
     ]
    }
   ],
   "source": [
    "# Exercise: Read authors.txt file, find authors who use gmail\n",
    "# Save them into a file gmail_authors.csv\n",
    "# For example output should be:\n",
    "# Name,Email,\n",
    "# Paul Bakaus,paul.bakaus@gmail.com\n",
    "# Richard Worth,rdworth@gmail.com\n",
    "# ...\n",
    "\n",
    "f = open('files/authors.txt', 'r')\n",
    "lines = f.readlines()\n",
    "f.close()\n",
    "\n",
    "f = open('files/gmail_authors.csv', 'w')\n",
    "f.write('Author,Email\\n')\n",
    "\n",
    "for li in lines:\n",
    "    if 'gmail' in li:\n",
    "        author = li.split('<')[0].strip()\n",
    "        email = li.split('<')[1].split('>')[0]\n",
    "        f.write(f'{author},{email}\\n')\n",
    "print('All gmail author saved!')\n",
    "f.close()"
   ]
  }
 ],
 "metadata": {
  "kernelspec": {
   "display_name": "Python 3",
   "language": "python",
   "name": "python3"
  },
  "language_info": {
   "codemirror_mode": {
    "name": "ipython",
    "version": 3
   },
   "file_extension": ".py",
   "mimetype": "text/x-python",
   "name": "python",
   "nbconvert_exporter": "python",
   "pygments_lexer": "ipython3",
   "version": "3.9.12"
  },
  "orig_nbformat": 4
 },
 "nbformat": 4,
 "nbformat_minor": 2
}
