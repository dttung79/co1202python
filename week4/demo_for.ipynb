{
 "cells": [
  {
   "cell_type": "code",
   "execution_count": null,
   "metadata": {},
   "outputs": [],
   "source": [
    "# for loop syntax: for item in sequence:\n",
    "\n",
    "# print 'Hello' multiple times\n",
    "for i in range(5):\n",
    "    print(i, 'Hello')"
   ]
  },
  {
   "cell_type": "code",
   "execution_count": null,
   "metadata": {},
   "outputs": [],
   "source": [
    "for i in range(1, 6):\n",
    "    print(i, 'Hello')"
   ]
  },
  {
   "cell_type": "code",
   "execution_count": null,
   "metadata": {},
   "outputs": [],
   "source": [
    "for i in range(5, 0, -1):\n",
    "    print(i, 'Hello')"
   ]
  },
  {
   "cell_type": "code",
   "execution_count": null,
   "metadata": {},
   "outputs": [],
   "source": [
    "for i in range(0, 10, 2):\n",
    "    print(i, 'Hello')"
   ]
  },
  {
   "cell_type": "code",
   "execution_count": null,
   "metadata": {},
   "outputs": [],
   "source": [
    "for i in range(8, -1, -2):\n",
    "    print(i, 'Hello')"
   ]
  },
  {
   "cell_type": "code",
   "execution_count": 10,
   "metadata": {},
   "outputs": [
    {
     "name": "stdout",
     "output_type": "stream",
     "text": [
      "Sum from 1 to 5 = 15\n"
     ]
    }
   ],
   "source": [
    "n = int(input('Enter n: '))\n",
    "s = 0\n",
    "for i in range(n + 1):\n",
    "    s += i\n",
    "print(f'Sum from 1 to {n} = {s}')"
   ]
  },
  {
   "cell_type": "code",
   "execution_count": null,
   "metadata": {},
   "outputs": [],
   "source": [
    "# Ex1: Calculate product of numbers from 1 to n (n!)\n",
    "n = int(input('Enter n: '))\n",
    "s = 1\n",
    "for i in range(1, n + 1):\n",
    "    s *= i\n",
    "print(f'{n}! = {s}')"
   ]
  },
  {
   "cell_type": "code",
   "execution_count": 14,
   "metadata": {},
   "outputs": [
    {
     "name": "stdout",
     "output_type": "stream",
     "text": [
      "Sum of even numbers from 1 to 10 = 30\n",
      "Sum of even numbers from 1 to 10 = 30\n"
     ]
    }
   ],
   "source": [
    "# Ex2: Calclate sum of even numbers from 1 to n\n",
    "n = int(input('Enter n: '))\n",
    "s = 0\n",
    "for i in range(n + 1):\n",
    "    if i % 2 == 0:\n",
    "        s += i\n",
    "print(f'Sum of even numbers from 1 to {n} = {s}')\n",
    "\n",
    "s = 0\n",
    "for i in range(0, n + 1, 2):\n",
    "    s += i\n",
    "print(f'Sum of even numbers from 1 to {n} = {s}')"
   ]
  },
  {
   "cell_type": "code",
   "execution_count": 16,
   "metadata": {},
   "outputs": [
    {
     "name": "stdout",
     "output_type": "stream",
     "text": [
      "Product of odd numbers from 1 to 5 = 15\n"
     ]
    }
   ],
   "source": [
    "# Ex3: Calculate product of odd numbers from 1 to n\n",
    "n = int(input('Enter n: '))\n",
    "s = 1\n",
    "for i in range(1, n + 1, 2):\n",
    "    s *= i\n",
    "print(f'Product of odd numbers from 1 to {n} = {s}')"
   ]
  },
  {
   "cell_type": "code",
   "execution_count": null,
   "metadata": {},
   "outputs": [],
   "source": [
    "# Ex4: Enter n, print multiplication table of n\n",
    "n = int(input('Enter n: '))\n",
    "for i in range(1, 11):\n",
    "    print(f'{i} x {n} = {i * n}')"
   ]
  },
  {
   "cell_type": "code",
   "execution_count": 26,
   "metadata": {},
   "outputs": [
    {
     "name": "stdout",
     "output_type": "stream",
     "text": [
      "\n",
      "* \n",
      "* * \n",
      "* * * \n",
      "* * * * \n",
      "* * * * * \n",
      "* * * * * \n",
      "* * * * \n",
      "* * * \n",
      "* * \n",
      "* \n"
     ]
    }
   ],
   "source": [
    "n = int(input('Enter n: '))\n",
    "for i in range(n + 1):\n",
    "    for j in range(i):\n",
    "        print('* ', end='')\n",
    "    print()\n",
    "\n",
    "for i in range(n, 0, -1):\n",
    "    for j in range(i):\n",
    "        print('* ', end='')\n",
    "    print()"
   ]
  }
 ],
 "metadata": {
  "kernelspec": {
   "display_name": "Python 3",
   "language": "python",
   "name": "python3"
  },
  "language_info": {
   "codemirror_mode": {
    "name": "ipython",
    "version": 3
   },
   "file_extension": ".py",
   "mimetype": "text/x-python",
   "name": "python",
   "nbconvert_exporter": "python",
   "pygments_lexer": "ipython3",
   "version": "3.9.12"
  },
  "orig_nbformat": 4
 },
 "nbformat": 4,
 "nbformat_minor": 2
}
