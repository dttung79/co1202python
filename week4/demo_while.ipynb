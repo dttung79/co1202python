{
 "cells": [
  {
   "cell_type": "code",
   "execution_count": null,
   "metadata": {},
   "outputs": [],
   "source": [
    "count = 0\n",
    "\n",
    "while count < 2:\n",
    "    print('Hello')\n",
    "    count += 1    # count = count + 1"
   ]
  },
  {
   "cell_type": "code",
   "execution_count": null,
   "metadata": {},
   "outputs": [],
   "source": [
    "# while scenario #1: asking user to continue or not\n",
    "selling = True\n",
    "while selling:\n",
    "    product = input('What product do you want to sell? ')\n",
    "    price = float(input('What is the price? '))\n",
    "    print(f'Product {product} sold for ${price:.2f}')\n",
    "\n",
    "    answer = input('Do you want to continue? (y/n) ')\n",
    "    # if answer == 'n':\n",
    "    #     selling = False\n",
    "    selling = answer == 'y'"
   ]
  },
  {
   "cell_type": "code",
   "execution_count": 7,
   "metadata": {},
   "outputs": [
    {
     "name": "stdout",
     "output_type": "stream",
     "text": [
      "Lucky next time\n",
      "Luck number is 82\n"
     ]
    }
   ],
   "source": [
    "import random as rd\n",
    "lucky_number = rd.randint(0, 99)\n",
    "\n",
    "buying = True\n",
    "while buying:\n",
    "    number = int(input('What number do you buy: '))\n",
    "    money = int(input('How much money do you want to bet: '))\n",
    "    if number == lucky_number:\n",
    "        print(f'You win {money * 80} VND')\n",
    "    else:\n",
    "        print('Lucky next time')\n",
    "    \n",
    "    answer = input('Do you want to continue? (y/n) ')\n",
    "    buying = answer == 'y'\n",
    "\n",
    "print(f'Luck number is {lucky_number}')"
   ]
  },
  {
   "cell_type": "code",
   "execution_count": 8,
   "metadata": {},
   "outputs": [
    {
     "name": "stdout",
     "output_type": "stream",
     "text": [
      "Invalid age, must be greater than or equal to 18\n",
      "Invalid age, must be greater than or equal to 18\n",
      "Student John is 20 years old\n"
     ]
    }
   ],
   "source": [
    "# while scenario #2: validate user input\n",
    "# enter student information (name, age)\n",
    "name = input('Enter student name: ')\n",
    "while True:\n",
    "    age = int(input('Enter student age: '))\n",
    "    if age >= 18:\n",
    "        break\n",
    "    else:\n",
    "        print('Invalid age, must be greater than or equal to 18')\n",
    "\n",
    "print(f'Student {name} is {age} years old')"
   ]
  },
  {
   "cell_type": "code",
   "execution_count": null,
   "metadata": {},
   "outputs": [],
   "source": [
    "# Enter 3 grades (english, math & physics), validate each grade (0 - 10)\n",
    "# If all grades are valid, calculate average grade\n",
    "# Else ask user to re-enter invalid grade\n",
    "\n",
    "while True:\n",
    "    english = int(input('Enter English grade: '))\n",
    "    math = int(input('Enter Math grade: '))\n",
    "    physics = int(input('Enter Physics grade: '))\n",
    "    if 0 <= english <= 10 and 0 <= math <= 10 and 0 <= physics <= 10:\n",
    "        break\n",
    "    else:\n",
    "        print('Invalid grade(s), must be between 0 and 10')\n",
    "\n",
    "average = (english + math + physics) / 3\n",
    "print(f'Average grade is {average:.2f}')"
   ]
  }
 ],
 "metadata": {
  "kernelspec": {
   "display_name": "Python 3",
   "language": "python",
   "name": "python3"
  },
  "language_info": {
   "codemirror_mode": {
    "name": "ipython",
    "version": 3
   },
   "file_extension": ".py",
   "mimetype": "text/x-python",
   "name": "python",
   "nbconvert_exporter": "python",
   "pygments_lexer": "ipython3",
   "version": "3.9.12"
  },
  "orig_nbformat": 4
 },
 "nbformat": 4,
 "nbformat_minor": 2
}
